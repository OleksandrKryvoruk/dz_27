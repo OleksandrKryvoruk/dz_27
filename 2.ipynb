{
 "cells": [
  {
   "cell_type": "markdown",
   "id": "28c010a2",
   "metadata": {},
   "source": [
    "**Умова**\n",
    "\n",
    "У рибальському містечку 99,99% чоловіків хоча б раз в житті були на рибалці. Проводять соціологічні дослідження серед\n",
    "10000 навмання вибраних чоловіків. Визначити дисперсію D(X) і середнє квадратичне відхилення S(X) випадкової величини\n",
    "Х - числа чоловіків, які жодного разу не були на рибалці."
   ]
  },
  {
   "cell_type": "markdown",
   "id": "4315a0f5",
   "metadata": {},
   "source": [
    "**Розв'язок:**\n"
   ]
  },
  {
   "cell_type": "markdown",
   "id": "ccbd0f0f",
   "metadata": {},
   "source": [
    "**1. Знайдемо ймовірність, що рандомний чоловік з рибацького містечка не був на рибалці:**"
   ]
  },
  {
   "cell_type": "code",
   "execution_count": 8,
   "id": "2e50261a",
   "metadata": {},
   "outputs": [
    {
     "name": "stdout",
     "output_type": "stream",
     "text": [
      "Ймовірність того, що чоловік не рибалка Р =  0.0001\n"
     ]
    }
   ],
   "source": [
    "p = (100 - 99.99)/100\n",
    "print(\"Ймовірність того, що чоловік не рибалка Р = \", round(p, 4))"
   ]
  },
  {
   "cell_type": "markdown",
   "id": "8d271774",
   "metadata": {},
   "source": [
    "У зв'язку з тим, що кількість чоловіків у дослідженні = 10000, ймовірність зустріти не рибалку = 0,0001, \n",
    "а добуток цих величин < 10  (10000 * 0,0001 = 1), то для вирішення даного завдання можна використати розподіл Пуассона."
   ]
  },
  {
   "cell_type": "markdown",
   "id": "7d38e492",
   "metadata": {},
   "source": [
    "**2. Знайдемо дисперсію за формулою $D(Х) = n * p$ :**"
   ]
  },
  {
   "cell_type": "code",
   "execution_count": 6,
   "id": "69b78ca8",
   "metadata": {},
   "outputs": [
    {
     "name": "stdout",
     "output_type": "stream",
     "text": [
      "Дисперсія D(Х) =  1.0\n"
     ]
    }
   ],
   "source": [
    "n = 10000\n",
    "p = 0.0001\n",
    "D_X = n * p\n",
    "print(\"Дисперсія D(Х) = \", D_X)"
   ]
  },
  {
   "cell_type": "markdown",
   "id": "3df331eb",
   "metadata": {},
   "source": [
    "**3. Знайдемо середнє квадратичне відхилення за форумулою $S(X) = \\sqrt{D(X)}$ :**"
   ]
  },
  {
   "cell_type": "code",
   "execution_count": 7,
   "id": "72380452",
   "metadata": {},
   "outputs": [
    {
     "name": "stdout",
     "output_type": "stream",
     "text": [
      "Середнє квадратичне відхилення S(X) =  1.0\n"
     ]
    }
   ],
   "source": [
    "S_X = D_X ** 0.5\n",
    "print(\"Середнє квадратичне відхилення S(X) = \", round(S_X, 2))"
   ]
  }
 ],
 "metadata": {
  "kernelspec": {
   "display_name": "Python 3 (ipykernel)",
   "language": "python",
   "name": "python3"
  },
  "language_info": {
   "codemirror_mode": {
    "name": "ipython",
    "version": 3
   },
   "file_extension": ".py",
   "mimetype": "text/x-python",
   "name": "python",
   "nbconvert_exporter": "python",
   "pygments_lexer": "ipython3",
   "version": "3.9.7"
  }
 },
 "nbformat": 4,
 "nbformat_minor": 5
}

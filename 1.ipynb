{
 "cells": [
  {
   "cell_type": "markdown",
   "id": "4bbd37e4",
   "metadata": {},
   "source": [
    "**Умова:**\n",
    "\n",
    "Мікропроцесор має 10000 транзисторів, які процюють незалежно один від одного. Ймовірність того, що транзистор вийде з ладу\n",
    "під час роботи приладу, є величиною малоймовірною і становить 0,0007. Визначити математичне сподівання М(Х) і середнє \n",
    "квадратичне відхилення S(X) випадкової величини Х - числа транзисторів, що вийдуть із ладу під час роботи мікропроцесора."
   ]
  },
  {
   "cell_type": "markdown",
   "id": "447ace36",
   "metadata": {},
   "source": [
    "**Розв'язок:**\n",
    "\n",
    "У зв'язку з тим, що кількість транзисторів = 10000, ймовірність виходу з ладу = 0,0007, \n",
    "а добуток цих величин < 10 (10000 * 0,0007 = 7), то для вирішення даного завдання можна використати розподіл Пуассона.\n"
   ]
  },
  {
   "cell_type": "markdown",
   "id": "981a5ee8",
   "metadata": {},
   "source": [
    "**1. Знайдемо математичне сподівання за формулою $М(Х) = n * p$ :**"
   ]
  },
  {
   "cell_type": "code",
   "execution_count": 1,
   "id": "a6f85998",
   "metadata": {},
   "outputs": [
    {
     "name": "stdout",
     "output_type": "stream",
     "text": [
      "Математичне сподівання М(Х) =  7.0\n"
     ]
    }
   ],
   "source": [
    "n = 10000\n",
    "p = 0.0007\n",
    "M_X = n * p\n",
    "print(\"Математичне сподівання М(Х) = \", M_X)"
   ]
  },
  {
   "cell_type": "markdown",
   "id": "cf0181c1",
   "metadata": {},
   "source": [
    "**2. Знайдемо середнє квадратичне відхилення за форумулою $S(X) = \\sqrt{D(X)}$ :**"
   ]
  },
  {
   "cell_type": "markdown",
   "id": "997965fa",
   "metadata": {},
   "source": [
    "У випадку розподілу Пуассона, дисперсія D(X) дорівнює математичному очікуванню М(X), тоді:"
   ]
  },
  {
   "cell_type": "code",
   "execution_count": 2,
   "id": "59bf2fdb",
   "metadata": {},
   "outputs": [
    {
     "name": "stdout",
     "output_type": "stream",
     "text": [
      "Середнє квадратичне відхилення S(X) =  2.65\n"
     ]
    }
   ],
   "source": [
    "D_X = M_X\n",
    "S_X = D_X ** 0.5\n",
    "print(\"Середнє квадратичне відхилення S(X) = \", round(S_X, 2))"
   ]
  }
 ],
 "metadata": {
  "kernelspec": {
   "display_name": "Python 3 (ipykernel)",
   "language": "python",
   "name": "python3"
  },
  "language_info": {
   "codemirror_mode": {
    "name": "ipython",
    "version": 3
   },
   "file_extension": ".py",
   "mimetype": "text/x-python",
   "name": "python",
   "nbconvert_exporter": "python",
   "pygments_lexer": "ipython3",
   "version": "3.10.7"
  }
 },
 "nbformat": 4,
 "nbformat_minor": 5
}
